{
 "cells": [
  {
   "cell_type": "code",
   "execution_count": 1,
   "metadata": {},
   "outputs": [],
   "source": [
    "import numpy as np\n",
    "# 从清华源安装\n",
    "# pip install numpy -i https://pypi.tuna.tsinghua.edu.cn/simple"
   ]
  },
  {
   "cell_type": "markdown",
   "metadata": {},
   "source": [
    "## create array"
   ]
  },
  {
   "cell_type": "code",
   "execution_count": 2,
   "metadata": {},
   "outputs": [
    {
     "name": "stdout",
     "output_type": "stream",
     "text": [
      "shape:  (2, 3)\n",
      "ndim:  2\n",
      "size:  6\n",
      "dtype float64\n"
     ]
    }
   ],
   "source": [
    "x = np.array([[1.5, 2, 3], \n",
    "              [4, 5, 6]])\n",
    "print('shape: ', x.shape)\n",
    "print('ndim: ', x.ndim)\n",
    "print('size: ', x.size)\n",
    "print('dtype', x.dtype)"
   ]
  },
  {
   "cell_type": "code",
   "execution_count": 3,
   "metadata": {},
   "outputs": [
    {
     "name": "stdout",
     "output_type": "stream",
     "text": [
      "zeros:\n",
      " [[0. 0.]\n",
      " [0. 0.]\n",
      " [0. 0.]]\n",
      "\n",
      "ones:\n",
      " [[1. 1. 1.]\n",
      " [1. 1. 1.]\n",
      " [1. 1. 1.]]\n",
      "\n",
      "eye:\n",
      " [[1. 0. 0.]\n",
      " [0. 1. 0.]\n",
      " [0. 0. 1.]]\n",
      "\n",
      "ones like:\n",
      " [[1. 1. 1.]\n",
      " [1. 1. 1.]\n",
      " [1. 1. 1.]]\n"
     ]
    }
   ],
   "source": [
    "print('zeros:\\n', np.zeros((3, 2)))\n",
    "print('\\nones:\\n', np.ones((3, 3)))\n",
    "x = np.eye(3)\n",
    "print('\\neye:\\n', x)\n",
    "print('\\nones like:\\n', np.ones_like(x))"
   ]
  },
  {
   "cell_type": "code",
   "execution_count": 4,
   "metadata": {},
   "outputs": [
    {
     "name": "stdout",
     "output_type": "stream",
     "text": [
      "arange\n",
      " [0 1 2 3 4 5 6 7 8 9]\n",
      "[ 5  7  9 11 13]\n",
      "\n",
      "linspace\n",
      " [1.         1.11111111 1.22222222 1.33333333 1.44444444 1.55555556\n",
      " 1.66666667 1.77777778 1.88888889 2.        ]\n"
     ]
    }
   ],
   "source": [
    "# vector\n",
    "print('arange\\n', np.arange(10))\n",
    "print(np.arange(5, 15, 2))\n",
    "print('\\nlinspace\\n', np.linspace(1, 2, 10))"
   ]
  },
  {
   "cell_type": "code",
   "execution_count": 5,
   "metadata": {},
   "outputs": [
    {
     "name": "stdout",
     "output_type": "stream",
     "text": [
      "uniform\n",
      " [[0.13844538 0.03842136 0.35128695 0.54724518]\n",
      " [0.96249979 0.0404378  0.23281676 0.66480316]\n",
      " [0.66651529 0.36771228 0.5071421  0.24533233]]\n",
      "\n",
      "guassian\n",
      " [[ 0.17440339  0.84614031  0.69250583 -0.0596763 ]\n",
      " [-1.16652531  1.38948075  0.39470411 -0.97596643]\n",
      " [-0.6268671  -1.33545664  0.34820404 -0.34417086]]\n",
      "\n",
      "one random int\n",
      " 3\n",
      "\n",
      "randint array\n",
      " [[ 3 29 33 34]\n",
      " [28 36 76 39]\n",
      " [40 13 22 19]]\n"
     ]
    }
   ],
   "source": [
    "# random\n",
    "print('uniform\\n', np.random.rand(3, 4))\n",
    "print('\\nguassian\\n', np.random.randn(3, 4))\n",
    "print('\\none random int\\n', np.random.randint(0, 10))\n",
    "print('\\nrandint array\\n', np.random.randint(0, 100, (3, 4)))"
   ]
  },
  {
   "cell_type": "markdown",
   "metadata": {},
   "source": [
    "## operation"
   ]
  },
  {
   "cell_type": "code",
   "execution_count": 6,
   "metadata": {},
   "outputs": [
    {
     "name": "stdout",
     "output_type": "stream",
     "text": [
      "origin a:\n",
      " [[-1.42683002 -0.4717019  -1.95705259]\n",
      " [ 1.25093398  0.28188193  1.63004368]]\n",
      "\n",
      "matrix and single number * 2\n",
      "[[-2.85366004 -0.94340379 -3.91410517]\n",
      " [ 2.50186795  0.56376386  3.26008737]]\n",
      "\n",
      "matrix and matrix\n",
      "matrix b:\n",
      " [[ 0.86924728 -0.6474743  -0.62838318]\n",
      " [ 1.87907913 -2.20194833 -1.22003834]]\n",
      "[[-1.24026812  0.30541485  1.22977893]\n",
      " [ 2.35060393 -0.62068944 -1.98871579]]\n",
      "\n",
      "matrix and vector\n",
      "vec: [[-0.07397123  0.56195062  1.13049213]]\n",
      "res:\n",
      " [[ 0.10554437 -0.26507317 -2.21243255]\n",
      " [-0.09253313  0.15840372  1.84275156]]\n"
     ]
    }
   ],
   "source": [
    "# basic operation\n",
    "a = np.random.randn(2, 3)\n",
    "print('origin a:\\n', a)\n",
    "\n",
    "print('\\nmatrix and single number * 2')\n",
    "print(a * 2)\n",
    "\n",
    "b = np.random.randn(2, 3)\n",
    "print('\\nmatrix and matrix')\n",
    "print('matrix b:\\n', b)\n",
    "print(a * b)\n",
    "\n",
    "print('\\nmatrix and vector')\n",
    "vec = np.random.randn(1, 3)\n",
    "print('vec:',vec)\n",
    "print('res:\\n', a * vec)\n"
   ]
  },
  {
   "cell_type": "code",
   "execution_count": 7,
   "metadata": {},
   "outputs": [
    {
     "name": "stdout",
     "output_type": "stream",
     "text": [
      "(3, 5)\n",
      "(3, 5)\n",
      "[[ True  True  True  True  True]\n",
      " [ True  True  True  True  True]\n",
      " [ True  True  True  True  True]]\n"
     ]
    }
   ],
   "source": [
    "# matrix multiply\n",
    "a = np.random.randn(3, 4)\n",
    "b = np.random.randn(4, 5)\n",
    "out2 = np.matmul(a, b)\n",
    "out1 = a @ b\n",
    "print(out1.shape)\n",
    "print(out2.shape)\n",
    "print(out1 == out2)"
   ]
  },
  {
   "cell_type": "code",
   "execution_count": 8,
   "metadata": {},
   "outputs": [
    {
     "name": "stdout",
     "output_type": "stream",
     "text": [
      "origin x:\n",
      " [[0.89649866 0.2200615  0.79184094]\n",
      " [0.38082242 0.01321333 0.69561177]]\n",
      "exp ^ x:\n",
      " [[2.45100626 1.24615337 2.20745649]\n",
      " [1.46348769 1.01330101 2.00493526]]\n",
      "sin x:\n",
      " [[0.78114564 0.21828965 0.71164781]\n",
      " [0.37168409 0.01321295 0.64085519]]\n",
      "x square:\n",
      " [[8.03709845e-01 4.84270659e-02 6.27012081e-01]\n",
      " [1.45025713e-01 1.74592135e-04 4.83875734e-01]]\n",
      "x sqrt:\n",
      " [[0.94683613 0.46910714 0.88985445]\n",
      " [0.61710811 0.11494926 0.83403343]]\n",
      "x log:\n",
      " [[-0.10925848 -1.5138482  -0.23339474]\n",
      " [-0.96542211 -4.32652898 -0.36296358]]\n"
     ]
    }
   ],
   "source": [
    "# element wise operation\n",
    "x = np.random.rand(2, 3)\n",
    "print('origin x:\\n', x)\n",
    "print('exp ^ x:\\n', np.exp(x))\n",
    "print('sin x:\\n', np.sin(x))\n",
    "print('x square:\\n', x ** 2)\n",
    "print('x sqrt:\\n', np.sqrt(x))\n",
    "print('x log:\\n', np.log(x))\n"
   ]
  },
  {
   "cell_type": "code",
   "execution_count": 9,
   "metadata": {},
   "outputs": [
    {
     "name": "stdout",
     "output_type": "stream",
     "text": [
      "origin x\n",
      " [[ 0.52783338 -0.54537236]\n",
      " [-0.98843637  0.59292446]]\n",
      "\n",
      "filt\n",
      " [[ True False]\n",
      " [ True  True]]\n",
      "[ 0.52783338 -0.98843637  0.59292446]\n",
      "\n",
      "filt\n",
      " [[ True False]\n",
      " [False  True]]\n",
      "element in x which x > 0:\n",
      " [0.52783338 0.59292446]\n"
     ]
    }
   ],
   "source": [
    "x = np.random.randn(2, 2)\n",
    "print('origin x\\n', x)\n",
    "\n",
    "\n",
    "filt = np.array([[True, False], [True, True]])\n",
    "print('\\nfilt\\n', filt)\n",
    "print(x[filt])\n",
    "\n",
    "\n",
    "filt = x > 0\n",
    "print('\\nfilt\\n', filt)\n",
    "print('element in x which x > 0:\\n', x[filt])"
   ]
  },
  {
   "cell_type": "code",
   "execution_count": 10,
   "metadata": {},
   "outputs": [
    {
     "name": "stdout",
     "output_type": "stream",
     "text": [
      "origin matrix\n",
      "x\n",
      " [[-0.44438331 -1.16846156  0.43662578]\n",
      " [ 0.58194687 -0.205007    0.11695023]]\n",
      "y\n",
      " [[1. 1. 1.]\n",
      " [1. 1. 1.]]\n",
      "\n",
      "concat along axis 0\n",
      " [[-0.44438331 -1.16846156  0.43662578]\n",
      " [ 0.58194687 -0.205007    0.11695023]\n",
      " [ 1.          1.          1.        ]\n",
      " [ 1.          1.          1.        ]]\n",
      "\n",
      "concat along axis 1\n",
      " [[-0.44438331 -1.16846156  0.43662578  1.          1.          1.        ]\n",
      " [ 0.58194687 -0.205007    0.11695023  1.          1.          1.        ]]\n"
     ]
    }
   ],
   "source": [
    "# concat\n",
    "x = np.random.randn(2, 3)\n",
    "y = np.ones_like(x)\n",
    "print('origin matrix')\n",
    "print('x\\n', x)\n",
    "print('y\\n', y)\n",
    "\n",
    "print('\\nconcat along axis 0\\n', np.concatenate([x, y], axis=0))\n",
    "print('\\nconcat along axis 1\\n', np.concatenate([x, y], axis=1))"
   ]
  },
  {
   "cell_type": "code",
   "execution_count": 11,
   "metadata": {},
   "outputs": [
    {
     "name": "stdout",
     "output_type": "stream",
     "text": [
      "origin x\n",
      " [[-0.03343653  0.14602599 -0.07859444]\n",
      " [ 0.73741927 -1.03719487  0.8030264 ]]\n",
      "\n",
      "reshape to (1, 6)\n",
      " [[-0.03343653  0.14602599 -0.07859444  0.73741927 -1.03719487  0.8030264 ]]\n",
      "\n",
      " x transpose\n",
      " [[-0.03343653  0.73741927]\n",
      " [ 0.14602599 -1.03719487]\n",
      " [-0.07859444  0.8030264 ]]\n",
      "\n",
      " more advanced transpose\n",
      " [[-0.03343653  0.73741927]\n",
      " [ 0.14602599 -1.03719487]\n",
      " [-0.07859444  0.8030264 ]]\n"
     ]
    }
   ],
   "source": [
    "x = np.random.randn(2, 3)\n",
    "print('origin x\\n', x)\n",
    "y = x.reshape((1, 6))\n",
    "print('\\nreshape to (1, 6)\\n', y)\n",
    "print('\\n x transpose\\n', x.T)\n",
    "print('\\n more advanced transpose\\n', np.transpose(x, (1, 0)))"
   ]
  },
  {
   "cell_type": "code",
   "execution_count": 18,
   "metadata": {},
   "outputs": [
    {
     "name": "stdout",
     "output_type": "stream",
     "text": [
      "origin x\n",
      " [[-1.47670506  2.09186101 -0.41458314 -0.17787515]\n",
      " [ 0.6204501  -0.12454182 -0.70414127 -2.56581807]]\n",
      "\n",
      "basic check\n",
      "min: -2.5658180693814883 max: 2.09186101053541\n",
      "mean: -0.3439191746296401 std: 1.2890656585659754\n",
      "\n",
      "mean along one axis:\n",
      " [-0.42812748  0.98365959 -0.5593622  -1.37184661]\n",
      "\n",
      "sum along one axis:\n",
      " [ 0.02269766 -2.77405105]\n",
      "\n",
      "the index of min elements\n",
      " [0 1 1 1]\n",
      "\n",
      "selected min elements\n",
      " [-1.47670506 -0.12454182 -0.70414127 -2.56581807]\n",
      "\n",
      "sorted index of elements along one aixs\n",
      " [[0 2 3 1]\n",
      " [3 2 1 0]]\n",
      "\n",
      "sorted array\n",
      " [[-1.47670506 -0.12454182 -0.70414127 -2.56581807]\n",
      " [ 0.6204501   2.09186101 -0.41458314 -0.17787515]]\n"
     ]
    }
   ],
   "source": [
    "x = np.random.randn(2, 4)\n",
    "print('origin x\\n', x)\n",
    "print('\\nbasic check')\n",
    "print('min:', x.min(), 'max:', x.max())\n",
    "print('mean:', x.mean(), 'std:', x.std())\n",
    "print('\\nmean along one axis:\\n', np.mean(x, axis=0))\n",
    "print('\\nsum along one axis:\\n', np.sum(x, axis=1))\n",
    "idxs = np.argmin(x, axis=0)\n",
    "print('\\nthe index of min elements\\n', idxs)\n",
    "print('\\nselected min elements\\n', x[idxs, np.arange(4)])\n",
    "print('\\nsorted index of elements along one aixs\\n', np.argsort(x, axis=1))\n",
    "print('\\nsorted array\\n', np.sort(x, axis=0))"
   ]
  },
  {
   "cell_type": "code",
   "execution_count": 20,
   "metadata": {},
   "outputs": [
    {
     "name": "stdout",
     "output_type": "stream",
     "text": [
      "(24, 24)\n",
      "(5, 5, 3)\n"
     ]
    }
   ],
   "source": [
    "# indices\n",
    "# think it like an image\n",
    "x = np.random.randn(24, 24, 3)\n",
    "print(x[:, :, 0].shape)\n",
    "print(x[5:10, 5:10, :].shape)"
   ]
  }
 ],
 "metadata": {
  "kernelspec": {
   "display_name": "Python 3.9.12 ('base')",
   "language": "python",
   "name": "python3"
  },
  "language_info": {
   "codemirror_mode": {
    "name": "ipython",
    "version": 3
   },
   "file_extension": ".py",
   "mimetype": "text/x-python",
   "name": "python",
   "nbconvert_exporter": "python",
   "pygments_lexer": "ipython3",
   "version": "3.9.12"
  },
  "orig_nbformat": 4,
  "vscode": {
   "interpreter": {
    "hash": "ab6b31c3d022a271dfcddc3c40a2eee039424e7c30da09d55745bebeb4d0a4b9"
   }
  }
 },
 "nbformat": 4,
 "nbformat_minor": 2
}
